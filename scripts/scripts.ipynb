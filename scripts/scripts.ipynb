{
 "cells": [
  {
   "cell_type": "code",
   "execution_count": 1,
   "metadata": {
    "collapsed": true
   },
   "outputs": [],
   "source": [
    "import lightgbm as lgb\n",
    "import pandas as pd\n",
    "import numpy as np\n",
    "from sklearn.metrics import mean_squared_error\n",
    "from sklearn.model_selection import train_test_split\n",
    "from sklearn.model_selection import GridSearchCV"
   ]
  },
  {
   "cell_type": "code",
   "execution_count": 28,
   "metadata": {},
   "outputs": [
    {
     "name": "stdout",
     "output_type": "stream",
     "text": [
      "Load data...\n"
     ]
    }
   ],
   "source": [
    "# load or create your dataset\n",
    "print('Load data...')\n",
    "df = pd.read_csv('../input/PASEC2015Cleaned.csv', low_memory=False);"
   ]
  },
  {
   "cell_type": "code",
   "execution_count": 29,
   "metadata": {
    "collapsed": true
   },
   "outputs": [],
   "source": [
    "df.replace('\\s+', '',regex=True,inplace=True)"
   ]
  },
  {
   "cell_type": "code",
   "execution_count": 30,
   "metadata": {
    "collapsed": true
   },
   "outputs": [],
   "source": [
    "for column in df.columns:\n",
    "    df[column] = pd.to_numeric(df[column], errors='coerce')"
   ]
  },
  {
   "cell_type": "code",
   "execution_count": 31,
   "metadata": {
    "collapsed": true
   },
   "outputs": [],
   "source": [
    "for column in df.columns:\n",
    "    df[column].fillna((df[column].mean()), inplace=True)"
   ]
  },
  {
   "cell_type": "code",
   "execution_count": 32,
   "metadata": {
    "collapsed": true
   },
   "outputs": [],
   "source": [
    "Y = df['MATHS_PV1']\n",
    "X = df[df.columns.difference(['LECT_PV1', 'MATHS_PV1'])]"
   ]
  },
  {
   "cell_type": "code",
   "execution_count": 33,
   "metadata": {
    "collapsed": true
   },
   "outputs": [],
   "source": [
    "X_train, X_test, y_train, y_test = train_test_split( X, Y, shuffle=True)"
   ]
  },
  {
   "cell_type": "code",
   "execution_count": 37,
   "metadata": {},
   "outputs": [],
   "source": [
    "# train\n",
    "'''\n",
    "gbm = lgb.LGBMRegressor(objective='regression',\n",
    "                        num_leaves=255,\n",
    "                        learning_rate=0.05,\n",
    "                        n_estimators=20)\n",
    "'''\n",
    "\n",
    "gbm = lgb.LGBMRegressor(objective='regression',\n",
    "                        num_leaves=255,\n",
    "                        num_trees = 500,\n",
    "                        min_sum_hessian_in_leaf = 100,\n",
    "                        learning_rate=0.05)"
   ]
  },
  {
   "cell_type": "code",
   "execution_count": 38,
   "metadata": {},
   "outputs": [
    {
     "name": "stdout",
     "output_type": "stream",
     "text": [
      "Start training...\n",
      "[1]\tvalid_0's l2: 6218.26\n",
      "Training until validation scores don't improve for 6 rounds.\n",
      "[2]\tvalid_0's l2: 5924.98\n",
      "[3]\tvalid_0's l2: 5664.62\n",
      "[4]\tvalid_0's l2: 5426.91\n",
      "[5]\tvalid_0's l2: 5199.06\n",
      "[6]\tvalid_0's l2: 5009.25\n",
      "[7]\tvalid_0's l2: 4822.64\n",
      "[8]\tvalid_0's l2: 4662.65\n",
      "[9]\tvalid_0's l2: 4516.85\n"
     ]
    },
    {
     "name": "stderr",
     "output_type": "stream",
     "text": [
      "/anaconda/envs/pasec-mdg/lib/python3.6/site-packages/lightgbm/engine.py:98: UserWarning: Found `num_trees` in params. Will use it instead of argument\n",
      "  warnings.warn(\"Found `{}` in params. Will use it instead of argument\".format(alias))\n"
     ]
    },
    {
     "name": "stdout",
     "output_type": "stream",
     "text": [
      "[10]\tvalid_0's l2: 4380.28\n",
      "[11]\tvalid_0's l2: 4245.23\n",
      "[12]\tvalid_0's l2: 4134.23\n",
      "[13]\tvalid_0's l2: 4018.64\n",
      "[14]\tvalid_0's l2: 3920.07\n",
      "[15]\tvalid_0's l2: 3833.03\n",
      "[16]\tvalid_0's l2: 3747.66\n",
      "[17]\tvalid_0's l2: 3671.4\n",
      "[18]\tvalid_0's l2: 3604.07\n",
      "[19]\tvalid_0's l2: 3538.59\n",
      "[20]\tvalid_0's l2: 3484.73\n",
      "[21]\tvalid_0's l2: 3421.48\n",
      "[22]\tvalid_0's l2: 3371.69\n",
      "[23]\tvalid_0's l2: 3319.9\n",
      "[24]\tvalid_0's l2: 3274.37\n",
      "[25]\tvalid_0's l2: 3227.24\n",
      "[26]\tvalid_0's l2: 3188.47\n",
      "[27]\tvalid_0's l2: 3158.19\n",
      "[28]\tvalid_0's l2: 3124.88\n",
      "[29]\tvalid_0's l2: 3095.56\n",
      "[30]\tvalid_0's l2: 3064.24\n",
      "[31]\tvalid_0's l2: 3036.82\n",
      "[32]\tvalid_0's l2: 3003.56\n",
      "[33]\tvalid_0's l2: 2981.32\n",
      "[34]\tvalid_0's l2: 2960.82\n",
      "[35]\tvalid_0's l2: 2935.86\n",
      "[36]\tvalid_0's l2: 2924.21\n",
      "[37]\tvalid_0's l2: 2906.54\n",
      "[38]\tvalid_0's l2: 2897.76\n",
      "[39]\tvalid_0's l2: 2877.7\n",
      "[40]\tvalid_0's l2: 2865.32\n",
      "[41]\tvalid_0's l2: 2850.26\n",
      "[42]\tvalid_0's l2: 2840.24\n",
      "[43]\tvalid_0's l2: 2828.56\n",
      "[44]\tvalid_0's l2: 2816.43\n",
      "[45]\tvalid_0's l2: 2804.42\n",
      "[46]\tvalid_0's l2: 2792.01\n",
      "[47]\tvalid_0's l2: 2781.36\n",
      "[48]\tvalid_0's l2: 2768.21\n",
      "[49]\tvalid_0's l2: 2761.39\n",
      "[50]\tvalid_0's l2: 2750.51\n",
      "[51]\tvalid_0's l2: 2742.68\n",
      "[52]\tvalid_0's l2: 2730.21\n",
      "[53]\tvalid_0's l2: 2719.03\n",
      "[54]\tvalid_0's l2: 2710.98\n",
      "[55]\tvalid_0's l2: 2703.02\n",
      "[56]\tvalid_0's l2: 2692.22\n",
      "[57]\tvalid_0's l2: 2678.3\n",
      "[58]\tvalid_0's l2: 2673.97\n",
      "[59]\tvalid_0's l2: 2664.76\n",
      "[60]\tvalid_0's l2: 2657.12\n",
      "[61]\tvalid_0's l2: 2652.8\n",
      "[62]\tvalid_0's l2: 2646.57\n",
      "[63]\tvalid_0's l2: 2643.73\n",
      "[64]\tvalid_0's l2: 2634.99\n",
      "[65]\tvalid_0's l2: 2630.22\n",
      "[66]\tvalid_0's l2: 2625.38\n",
      "[67]\tvalid_0's l2: 2618.77\n",
      "[68]\tvalid_0's l2: 2615.05\n",
      "[69]\tvalid_0's l2: 2606.42\n",
      "[70]\tvalid_0's l2: 2602.68\n",
      "[71]\tvalid_0's l2: 2600.78\n",
      "[72]\tvalid_0's l2: 2592.29\n",
      "[73]\tvalid_0's l2: 2588.59\n",
      "[74]\tvalid_0's l2: 2583.53\n",
      "[75]\tvalid_0's l2: 2578.4\n",
      "[76]\tvalid_0's l2: 2575.09\n",
      "[77]\tvalid_0's l2: 2571.14\n",
      "[78]\tvalid_0's l2: 2568.55\n",
      "[79]\tvalid_0's l2: 2561.74\n",
      "[80]\tvalid_0's l2: 2557.93\n",
      "[81]\tvalid_0's l2: 2553.49\n",
      "[82]\tvalid_0's l2: 2544.69\n",
      "[83]\tvalid_0's l2: 2540.48\n",
      "[84]\tvalid_0's l2: 2536.48\n",
      "[85]\tvalid_0's l2: 2529.94\n",
      "[86]\tvalid_0's l2: 2525.91\n",
      "[87]\tvalid_0's l2: 2519.37\n",
      "[88]\tvalid_0's l2: 2516.46\n",
      "[89]\tvalid_0's l2: 2513.51\n",
      "[90]\tvalid_0's l2: 2509.42\n",
      "[91]\tvalid_0's l2: 2505.76\n",
      "[92]\tvalid_0's l2: 2500.57\n",
      "[93]\tvalid_0's l2: 2495.43\n",
      "[94]\tvalid_0's l2: 2491.42\n",
      "[95]\tvalid_0's l2: 2486.25\n",
      "[96]\tvalid_0's l2: 2481.76\n",
      "[97]\tvalid_0's l2: 2479.12\n",
      "[98]\tvalid_0's l2: 2475.41\n",
      "[99]\tvalid_0's l2: 2470.07\n",
      "[100]\tvalid_0's l2: 2465.56\n",
      "[101]\tvalid_0's l2: 2462.28\n",
      "[102]\tvalid_0's l2: 2460.72\n",
      "[103]\tvalid_0's l2: 2457.43\n",
      "[104]\tvalid_0's l2: 2456.99\n",
      "[105]\tvalid_0's l2: 2453.81\n",
      "[106]\tvalid_0's l2: 2450.1\n",
      "[107]\tvalid_0's l2: 2446.2\n",
      "[108]\tvalid_0's l2: 2443.77\n",
      "[109]\tvalid_0's l2: 2441.54\n",
      "[110]\tvalid_0's l2: 2436.23\n",
      "[111]\tvalid_0's l2: 2435.54\n",
      "[112]\tvalid_0's l2: 2434.18\n",
      "[113]\tvalid_0's l2: 2431.78\n",
      "[114]\tvalid_0's l2: 2430.65\n",
      "[115]\tvalid_0's l2: 2427.33\n",
      "[116]\tvalid_0's l2: 2426.62\n",
      "[117]\tvalid_0's l2: 2425.91\n",
      "[118]\tvalid_0's l2: 2423.25\n",
      "[119]\tvalid_0's l2: 2420.29\n",
      "[120]\tvalid_0's l2: 2421.34\n",
      "[121]\tvalid_0's l2: 2416.9\n",
      "[122]\tvalid_0's l2: 2416.85\n",
      "[123]\tvalid_0's l2: 2415.28\n",
      "[124]\tvalid_0's l2: 2411.84\n",
      "[125]\tvalid_0's l2: 2408.57\n",
      "[126]\tvalid_0's l2: 2404.34\n",
      "[127]\tvalid_0's l2: 2404.11\n",
      "[128]\tvalid_0's l2: 2402.42\n",
      "[129]\tvalid_0's l2: 2399.91\n",
      "[130]\tvalid_0's l2: 2397.72\n",
      "[131]\tvalid_0's l2: 2396\n",
      "[132]\tvalid_0's l2: 2396.63\n",
      "[133]\tvalid_0's l2: 2395.27\n",
      "[134]\tvalid_0's l2: 2394.29\n",
      "[135]\tvalid_0's l2: 2393.18\n",
      "[136]\tvalid_0's l2: 2390.84\n",
      "[137]\tvalid_0's l2: 2391.97\n",
      "[138]\tvalid_0's l2: 2390.98\n",
      "[139]\tvalid_0's l2: 2388.52\n",
      "[140]\tvalid_0's l2: 2387.67\n",
      "[141]\tvalid_0's l2: 2387.27\n",
      "[142]\tvalid_0's l2: 2386.17\n",
      "[143]\tvalid_0's l2: 2384.73\n",
      "[144]\tvalid_0's l2: 2385.24\n",
      "[145]\tvalid_0's l2: 2383.65\n",
      "[146]\tvalid_0's l2: 2381.02\n",
      "[147]\tvalid_0's l2: 2379.42\n",
      "[148]\tvalid_0's l2: 2378.56\n",
      "[149]\tvalid_0's l2: 2376.48\n",
      "[150]\tvalid_0's l2: 2375.23\n",
      "[151]\tvalid_0's l2: 2372.72\n",
      "[152]\tvalid_0's l2: 2373.13\n",
      "[153]\tvalid_0's l2: 2372.89\n",
      "[154]\tvalid_0's l2: 2370.52\n",
      "[155]\tvalid_0's l2: 2371.08\n",
      "[156]\tvalid_0's l2: 2369.99\n",
      "[157]\tvalid_0's l2: 2369.22\n",
      "[158]\tvalid_0's l2: 2368.93\n",
      "[159]\tvalid_0's l2: 2368.16\n",
      "[160]\tvalid_0's l2: 2367.81\n",
      "[161]\tvalid_0's l2: 2367.65\n",
      "[162]\tvalid_0's l2: 2367.84\n",
      "[163]\tvalid_0's l2: 2367.22\n",
      "[164]\tvalid_0's l2: 2368.06\n",
      "[165]\tvalid_0's l2: 2368.09\n",
      "[166]\tvalid_0's l2: 2367.4\n",
      "[167]\tvalid_0's l2: 2366.2\n",
      "[168]\tvalid_0's l2: 2364.08\n",
      "[169]\tvalid_0's l2: 2362.79\n",
      "[170]\tvalid_0's l2: 2363.67\n",
      "[171]\tvalid_0's l2: 2362.12\n",
      "[172]\tvalid_0's l2: 2361\n",
      "[173]\tvalid_0's l2: 2359.88\n",
      "[174]\tvalid_0's l2: 2357.93\n",
      "[175]\tvalid_0's l2: 2356.17\n",
      "[176]\tvalid_0's l2: 2355.32\n",
      "[177]\tvalid_0's l2: 2353.23\n",
      "[178]\tvalid_0's l2: 2353.13\n",
      "[179]\tvalid_0's l2: 2351.96\n",
      "[180]\tvalid_0's l2: 2351.59\n",
      "[181]\tvalid_0's l2: 2351.54\n",
      "[182]\tvalid_0's l2: 2353.36\n",
      "[183]\tvalid_0's l2: 2354.86\n",
      "[184]\tvalid_0's l2: 2355.34\n",
      "[185]\tvalid_0's l2: 2356.86\n",
      "[186]\tvalid_0's l2: 2358\n",
      "[187]\tvalid_0's l2: 2358.58\n",
      "Early stopping, best iteration is:\n",
      "[181]\tvalid_0's l2: 2351.54\n"
     ]
    },
    {
     "data": {
      "text/plain": [
       "LGBMRegressor(boosting_type='gbdt', colsample_bytree=1.0, learning_rate=0.05,\n",
       "       max_bin=255, max_depth=-1, min_child_samples=10, min_child_weight=5,\n",
       "       min_split_gain=0.0, min_sum_hessian_in_leaf=100, n_estimators=10,\n",
       "       n_jobs=-1, num_leaves=255, num_trees=500, objective='regression',\n",
       "       random_state=0, reg_alpha=0.0, reg_lambda=0.0, silent=True,\n",
       "       subsample=1.0, subsample_for_bin=50000, subsample_freq=1)"
      ]
     },
     "execution_count": 38,
     "metadata": {},
     "output_type": "execute_result"
    }
   ],
   "source": [
    "print('Start training...')\n",
    "gbm.fit(X_train, y_train,\n",
    "        eval_set=[(X_test, y_test)],\n",
    "        eval_metric='l2',\n",
    "        early_stopping_rounds=6)"
   ]
  },
  {
   "cell_type": "code",
   "execution_count": 40,
   "metadata": {},
   "outputs": [
    {
     "name": "stdout",
     "output_type": "stream",
     "text": [
      "Start predicting...\n",
      "The RMSE of prediction is: 48.492706617\n"
     ]
    }
   ],
   "source": [
    "print('Start predicting...')\n",
    "# predict\n",
    "y_pred = gbm.predict(X_test, num_iteration=gbm.best_iteration_)\n",
    "# eval\n",
    "print('The RMSE of prediction is:', mean_squared_error(y_test, y_pred) ** 0.5)\n",
    "\n",
    "# feature importances\n",
    "#print('Feature importances:', list(gbm.feature_importances_))"
   ]
  },
  {
   "cell_type": "code",
   "execution_count": 41,
   "metadata": {},
   "outputs": [
    {
     "name": "stdout",
     "output_type": "stream",
     "text": [
      "Best parameters found by grid search are: {'learning_rate': 0.05, 'n_estimators': 50, 'num_leaves': 100}\n"
     ]
    }
   ],
   "source": [
    "# Finding the the best parameters\n",
    "estimator = lgb.LGBMRegressor()\n",
    "\n",
    "param_grid = {\n",
    "    'learning_rate': [0.01, 0.1, 0.05],\n",
    "    'n_estimators': [20, 40, 50, 100],\n",
    "    'num_leaves': [100, 200, 1250]\n",
    "}\n",
    "\n",
    "gbm = GridSearchCV(estimator, param_grid)\n",
    "\n",
    "gbm.fit(X_train, y_train)\n",
    "\n",
    "print('Best parameters found by grid search are:', gbm.best_params_)"
   ]
  }
 ],
 "metadata": {
  "kernelspec": {
   "display_name": "Python 3",
   "language": "python",
   "name": "python3"
  },
  "language_info": {
   "codemirror_mode": {
    "name": "ipython",
    "version": 3
   },
   "file_extension": ".py",
   "mimetype": "text/x-python",
   "name": "python",
   "nbconvert_exporter": "python",
   "pygments_lexer": "ipython3",
   "version": "3.6.2"
  }
 },
 "nbformat": 4,
 "nbformat_minor": 2
}
